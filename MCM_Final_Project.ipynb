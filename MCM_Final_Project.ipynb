{
  "nbformat": 4,
  "nbformat_minor": 0,
  "metadata": {
    "colab": {
      "name": "MCM Final Project.ipynb",
      "provenance": [],
      "collapsed_sections": []
    },
    "kernelspec": {
      "name": "python3",
      "display_name": "Python 3"
    }
  },
  "cells": [
    {
      "cell_type": "markdown",
      "metadata": {
        "id": "fp-ZcJBa_TOu",
        "colab_type": "text"
      },
      "source": [
        "# MNIST Handwritten Digits Prediction using Artificial Neural Network\n",
        "## Prabesh Paudel\n",
        "### May 11, 2020"
      ]
    },
    {
      "cell_type": "markdown",
      "metadata": {
        "id": "xih3D3SuVJdB",
        "colab_type": "text"
      },
      "source": [
        "With the advent of \"Artificial Intelligence\", more and more people seem to be interested in learning it. Neural Networks is one of the many areas inside of Artificial Intelligence, which was first theorized by psychologist Frank Rosenblatt and later worked on my Prof. Geoffery Hinton at the University of Toronto. So, what are neural networks? \n",
        "\n",
        "So, you might have heard that there are \"neurons\" in your brain, and how these massive clusters of neurons create a working consciousness that let you make decisions based on the input you give it, namely from eyes, ears and other sensory organs. Neural Networks are based on a similar idea. Neural network is a collection of perceptrons. Perceptions can be defined as sort of like a neuron that performs a very basic task, given an input. In our case, it might run it through a mathematical function to give us an result based on what numbers are inputed. So, the idea is having enough of these basic perceptrons and putting them all together to create an artificial brain that can think itself. But there is a problem. \n",
        "\n",
        "You know how when you were born, you knew nothing? Like literally nothing and as you grew up, your mind was trained to recognize things, speak words and formulate ideas. Similarly, we need to train this neural network too. We cannot just expect to know things. We have to train it to do a task. There are more complex neural networks that can do some epic stuff, but they required years of research and hige teams to build so obviously we cannot build complicated AI  just as a final project for a class. What I have tried to do it create a very primitive AI that can recognize handwritten digits. Doesn't sound like a hard job but it is mathematically intensive when we take a look at it. \n",
        "\n",
        "Let's look at what neural networks look like. \n",
        "\n",
        "![alt text](https://miro.medium.com/max/865/0*G8uhvatX3_bGRcax.png)\n",
        "\n",
        "So, this is what the neural network I have build below looks like. \n",
        "\n",
        "\n"
      ]
    },
    {
      "cell_type": "markdown",
      "metadata": {
        "id": "7Ev8qoGA68kJ",
        "colab_type": "text"
      },
      "source": [
        "So, let's get started! Let's start by importing the required libraries!"
      ]
    },
    {
      "cell_type": "code",
      "metadata": {
        "id": "VlaMsma3_79-",
        "colab_type": "code",
        "colab": {}
      },
      "source": [
        "import numpy as np\n",
        "import pandas as pd\n",
        "import matplotlib.pyplot as plt\n",
        "\n",
        "%matplotlib inline"
      ],
      "execution_count": 0,
      "outputs": []
    },
    {
      "cell_type": "markdown",
      "metadata": {
        "id": "BMRxjQrO7EK0",
        "colab_type": "text"
      },
      "source": [
        "Let's define the sigmoid function that we will use later on. ![alt text](https://miro.medium.com/max/4000/1*JHWL_71qml0kP_Imyx4zBg.png)"
      ]
    },
    {
      "cell_type": "code",
      "metadata": {
        "id": "JsyLOMmgAV5l",
        "colab_type": "code",
        "colab": {}
      },
      "source": [
        "def sigmoid(x):\n",
        "    return 1/(1+np.exp(-x))"
      ],
      "execution_count": 0,
      "outputs": []
    },
    {
      "cell_type": "markdown",
      "metadata": {
        "id": "wxhIdb6Q7Za4",
        "colab_type": "text"
      },
      "source": [
        "Now let's define a neural network class. Every step is defined in the comments besides the backpropogation steps. Backpropogation is the step that is used by the neural network to make corrections in the weights of each each variables in the input. ![alt text](https://www.researchgate.net/publication/303744090/figure/fig3/AS:368958596239360@1464977992159/Feedforward-Backpropagation-Neural-Network-architecture.png)"
      ]
    },
    {
      "cell_type": "code",
      "metadata": {
        "id": "GhL8r86sAWQ9",
        "colab_type": "code",
        "colab": {}
      },
      "source": [
        "# defining a neural network class\n",
        "class neuralNetwork:\n",
        "\n",
        "    # initializing the neural network\n",
        "    def __init__(self, inputnodes, hiddennodes, outputnodes, learningrate=0.1):\n",
        "        self.input_nodes = inputnodes\n",
        "        self.hidden_nodes = hiddennodes\n",
        "        self.output_nodes = outputnodes\n",
        "\n",
        "        # learning rate\n",
        "        self.learning_rate = learningrate\n",
        "\n",
        "        # initializing the neural network with random weights to go from input layer to\n",
        "        # hidden layer and from hidden layer to output layer\n",
        "\n",
        "        self.weight_input_hidden = np.random.randn(self.hidden_nodes, self.input_nodes) * 0.01\n",
        "        self.weight_hidden_output = np.random.randn(self.output_nodes, self.hidden_nodes) * 0.01\n",
        "\n",
        "        # calculating the activation function (sigmoid)\n",
        "        self.sigmoid = lambda x: sigmoid(x)\n",
        "        pass\n",
        "\n",
        "    def train(self, inputs_list, target_list):\n",
        "        # flatten\n",
        "        inputs = np.array(inputs_list, ndmin=2).T\n",
        "        targets = np.array(target_list, ndmin=2).T\n",
        "\n",
        "        # input times the weights\n",
        "        hidden_inputs = np.dot(self.weight_input_hidden, inputs)\n",
        "\n",
        "        # apply the sigmoid function\n",
        "        hidden_outputs = self.sigmoid(hidden_inputs)\n",
        "\n",
        "        # same thing as above but for the output\n",
        "        final_inputs = np.dot(self.weight_hidden_output, hidden_outputs)\n",
        "        final_outputs = self.sigmoid(final_inputs)\n",
        "\n",
        "        # calculating the error\n",
        "        output_errors = targets - final_outputs\n",
        "        hidden_errors = np.dot(self.weight_hidden_output.T, output_errors)\n",
        "\n",
        "        # BACKPROPOGATION\n",
        "        self.weight_hidden_output += self.learning_rate * np.dot((output_errors * final_outputs\n",
        "                                                                  * (1.0 - final_outputs)),\n",
        "                                                                 np.transpose(hidden_outputs))\n",
        "        self.weight_input_hidden += self.learning_rate * np.dot((hidden_errors * hidden_outputs\n",
        "                                                                 * (1.0 - hidden_outputs)),\n",
        "                                                                np.transpose(inputs))\n",
        "\n",
        "        pass\n",
        "\n",
        "    def predict(self, inputs_list):\n",
        "        # flatten\n",
        "        inputs = np.array(inputs_list, ndmin=2).T\n",
        "        # input times the weights\n",
        "        hidden_inputs = np.dot(self.weight_input_hidden, inputs)\n",
        "        # apply the sigmoid function\n",
        "        hidden_outputs = self.sigmoid(hidden_inputs)\n",
        "\n",
        "        # same thing as above but for the output\n",
        "        final_inputs = np.dot(self.weight_hidden_output, hidden_outputs)\n",
        "        final_outputs = self.sigmoid(final_inputs)\n",
        "\n",
        "        return final_outputs"
      ],
      "execution_count": 0,
      "outputs": []
    },
    {
      "cell_type": "markdown",
      "metadata": {
        "id": "47zooN9T9Jjn",
        "colab_type": "text"
      },
      "source": [
        "Let's set the parameters for our neural networks to train on."
      ]
    },
    {
      "cell_type": "code",
      "metadata": {
        "id": "q92qHu_mAaTU",
        "colab_type": "code",
        "colab": {}
      },
      "source": [
        "#parameters and hyperparameters \n",
        "input_nodes = 784\n",
        "hidden_nodes = 200\n",
        "output_nodes = 10\n",
        "learning_rate = 0.1"
      ],
      "execution_count": 0,
      "outputs": []
    },
    {
      "cell_type": "code",
      "metadata": {
        "id": "va5PKvx6AmgE",
        "colab_type": "code",
        "colab": {}
      },
      "source": [
        "#create a neural network instance\n",
        "nn_model = neuralNetwork(input_nodes, hidden_nodes, output_nodes, learning_rate)"
      ],
      "execution_count": 0,
      "outputs": []
    },
    {
      "cell_type": "markdown",
      "metadata": {
        "id": "Gv-2-mih9PkG",
        "colab_type": "text"
      },
      "source": [
        "Let's load the data from the google drive!"
      ]
    },
    {
      "cell_type": "code",
      "metadata": {
        "id": "fFXxUpH4EQGz",
        "colab_type": "code",
        "outputId": "d7d7256c-fbf3-4f10-c64c-66cde32c36e3",
        "colab": {
          "base_uri": "https://localhost:8080/",
          "height": 122
        }
      },
      "source": [
        "from google.colab import drive\n",
        "drive.mount('/content/drive')"
      ],
      "execution_count": 6,
      "outputs": [
        {
          "output_type": "stream",
          "text": [
            "Go to this URL in a browser: https://accounts.google.com/o/oauth2/auth?client_id=947318989803-6bn6qk8qdgf4n4g3pfee6491hc0brc4i.apps.googleusercontent.com&redirect_uri=urn%3aietf%3awg%3aoauth%3a2.0%3aoob&response_type=code&scope=email%20https%3a%2f%2fwww.googleapis.com%2fauth%2fdocs.test%20https%3a%2f%2fwww.googleapis.com%2fauth%2fdrive%20https%3a%2f%2fwww.googleapis.com%2fauth%2fdrive.photos.readonly%20https%3a%2f%2fwww.googleapis.com%2fauth%2fpeopleapi.readonly\n",
            "\n",
            "Enter your authorization code:\n",
            "··········\n",
            "Mounted at /content/drive\n"
          ],
          "name": "stdout"
        }
      ]
    },
    {
      "cell_type": "code",
      "metadata": {
        "id": "OLrNSe7yAoCF",
        "colab_type": "code",
        "colab": {}
      },
      "source": [
        "# load the mnist training data CSV file into a list\n",
        "training_data_file = open(\"/content/drive/My Drive/Colab Notebooks/mnist_train.csv\", 'r')\n",
        "# training_data_file = open(\"/content/drive/My Drive/Colab Notebooks/mnist_train.csv\", 'r')\n",
        "training_data_list = training_data_file.readlines()\n",
        "training_data_file.close()"
      ],
      "execution_count": 0,
      "outputs": []
    },
    {
      "cell_type": "code",
      "metadata": {
        "id": "1mM3CJKtFe0p",
        "colab_type": "code",
        "outputId": "e5e67755-588f-4b18-8354-0093cdd51ba4",
        "colab": {
          "base_uri": "https://localhost:8080/",
          "height": 34
        }
      },
      "source": [
        "len(training_data_list)"
      ],
      "execution_count": 8,
      "outputs": [
        {
          "output_type": "execute_result",
          "data": {
            "text/plain": [
              "60000"
            ]
          },
          "metadata": {
            "tags": []
          },
          "execution_count": 8
        }
      ]
    },
    {
      "cell_type": "code",
      "metadata": {
        "id": "uxriSzSqBVc9",
        "colab_type": "code",
        "outputId": "0d122746-8698-4173-e5ca-6bf1487a2ee9",
        "colab": {
          "base_uri": "https://localhost:8080/",
          "height": 282
        }
      },
      "source": [
        "# Looking at a random data\n",
        "import random\n",
        "cache = random.randint(0,60000)\n",
        "all_values = training_data_list[cache].split(',')\n",
        "image_array = np.asfarray(all_values[1:]).reshape((28,28))\n",
        "plt.imshow(image_array, cmap = 'Greys', interpolation=None)\n",
        "print(\"The target value is: \" , all_values[0])"
      ],
      "execution_count": 9,
      "outputs": [
        {
          "output_type": "stream",
          "text": [
            "The target value is:  6\n"
          ],
          "name": "stdout"
        },
        {
          "output_type": "display_data",
          "data": {
            "image/png": "[encoded data removed]",
            "text/plain": [
              "<Figure size 432x288 with 1 Axes>"
            ]
          },
          "metadata": {
            "tags": [],
            "needs_background": "light"
          }
        }
      ]
    },
    {
      "cell_type": "code",
      "metadata": {
        "id": "r84AGo7ZEoIS",
        "colab_type": "code",
        "outputId": "9853e559-3a4f-4174-8d97-bd033362b7f9",
        "colab": {
          "base_uri": "https://localhost:8080/",
          "height": 187
        }
      },
      "source": [
        "# train the neural network\n",
        "# epochs is the number of times the training data set is used for training\n",
        "epochs = 10\n",
        "for e in range(epochs):\n",
        "    print(\"Epoch: \" + str(e+1) + \"/\" + str(epochs))\n",
        "    # go through all records in the training data set \n",
        "    for record in training_data_list:\n",
        "        # split the record by the ',' commas\n",
        "        all_values = record.split(',')\n",
        "        # scale and shift the inputs\n",
        "        inputs = (np.asfarray(all_values[1:]) / 255.0 * 0.99) + 0.01\n",
        "        # create the target output values (all 0.01, except the desired label which is 0.99)\n",
        "        targets = np.zeros(output_nodes) + 0.01\n",
        "        # all_values[0] is the target label for this record \n",
        "        targets[int(all_values[0])] = 0.99\n",
        "        nn_model.train(inputs, targets)\n",
        "        pass\n",
        "    pass"
      ],
      "execution_count": 10,
      "outputs": [
        {
          "output_type": "stream",
          "text": [
            "Epoch: 1/10\n",
            "Epoch: 2/10\n",
            "Epoch: 3/10\n",
            "Epoch: 4/10\n",
            "Epoch: 5/10\n",
            "Epoch: 6/10\n",
            "Epoch: 7/10\n",
            "Epoch: 8/10\n",
            "Epoch: 9/10\n",
            "Epoch: 10/10\n"
          ],
          "name": "stdout"
        }
      ]
    },
    {
      "cell_type": "code",
      "metadata": {
        "id": "twsChwlRIL6K",
        "colab_type": "code",
        "colab": {}
      },
      "source": [
        "# load the mnist test data CSV file into a list \n",
        "test_data_file = open(\"/content/drive/My Drive/Colab Notebooks/mnist_test.csv\", 'r') \n",
        "test_data_list = test_data_file.readlines() \n",
        "test_data_file.close()"
      ],
      "execution_count": 0,
      "outputs": []
    },
    {
      "cell_type": "code",
      "metadata": {
        "id": "BYyFiot4IQ35",
        "colab_type": "code",
        "colab": {}
      },
      "source": [
        "# test the neural network\n",
        "# scorecard for how well the network performs, initially empty \n",
        "scorecard = []\n",
        "# go through all the records in the test data set \n",
        "for record in test_data_list:\n",
        "    # split the record by the ',' commas \n",
        "    all_values = record.split(',')\n",
        "    # correct answer is first value \n",
        "    correct_label = int(all_values[0]) \n",
        "    inputs = (np.asfarray(all_values[1:]) / 255.0 * 0.99) + 0.01 \n",
        "    # query the network\n",
        "    outputs = nn_model.predict(inputs)\n",
        "    # the index of the highest value corresponds to the label \n",
        "    label = np.argmax(outputs)\n",
        "    # append correct or incorrect to list \n",
        "    if (label == correct_label):\n",
        "        # network's answer matches correct answer, add 1 to scorecard\n",
        "        scorecard.append(1) \n",
        "    else:\n",
        "        # network's answer doesn't match correct answer, add 0 to scorecard\n",
        "        scorecard.append(0) \n",
        "        pass\n",
        "    pass"
      ],
      "execution_count": 0,
      "outputs": []
    },
    {
      "cell_type": "code",
      "metadata": {
        "id": "iqmbul2nIUsB",
        "colab_type": "code",
        "outputId": "906b5547-ad86-4e76-eeec-c5696ec2fab8",
        "colab": {
          "base_uri": "https://localhost:8080/",
          "height": 34
        }
      },
      "source": [
        "# calculate the performance score, the fraction of correct answers \n",
        "scorecard_array = np.asarray(scorecard)\n",
        "print (\"performance = \", scorecard_array.sum() / scorecard_array.size)"
      ],
      "execution_count": 13,
      "outputs": [
        {
          "output_type": "stream",
          "text": [
            "performance =  0.9754\n"
          ],
          "name": "stdout"
        }
      ]
    },
    {
      "cell_type": "markdown",
      "metadata": {
        "id": "cLDfSGc79bRG",
        "colab_type": "text"
      },
      "source": [
        "Now that we know all of this works, let's define a function that will give us a accuracy of our neural network in predicting the numbers correctly as a function of hidden nodes and learning rate. "
      ]
    },
    {
      "cell_type": "code",
      "metadata": {
        "id": "4SXEw9MfYE16",
        "colab_type": "code",
        "colab": {}
      },
      "source": [
        "from tqdm import tqdm\n",
        "def getAccuracy(hn, lr):\n",
        "  print(\"Learning Rate:\" , lr)\n",
        "  print(\"Hidden Nodes:\", hn)\n",
        "  input_nodes = 784\n",
        "  output_nodes = 10\n",
        "  nn_model = neuralNetwork(input_nodes, hn, output_nodes, lr)\n",
        "  epochs = 10\n",
        "  print(\"Starting Training...\")\n",
        "  for e in tqdm(range(epochs)):\n",
        "    #print(\"Epoch: \" + str(e+1) + \"/\" + str(epochs))\n",
        "    # go through all records in the training data set \n",
        "    for record in training_data_list:\n",
        "      # split the record by the ',' commas\n",
        "      all_values = record.split(',')\n",
        "      # scale and shift the inputs\n",
        "      inputs = (np.asfarray(all_values[1:]) / 255.0 * 0.99) + 0.01\n",
        "      # create the target output values (all 0.01, except the desired label which is 0.99)\n",
        "      targets = np.zeros(output_nodes) + 0.01\n",
        "      # all_values[0] is the target label for this record \n",
        "      targets[int(all_values[0])] = 0.99\n",
        "      nn_model.train(inputs, targets)\n",
        "      pass\n",
        "    pass\n",
        "  \n",
        "  # test the neural network\n",
        "  # scorecard for how well the network performs, initially empty \n",
        "  scorecard = []\n",
        "  # go through all the records in the test data set \n",
        "  for record in test_data_list:\n",
        "      # split the record by the ',' commas \n",
        "      all_values = record.split(',')\n",
        "      # correct answer is first value \n",
        "      correct_label = int(all_values[0]) \n",
        "      inputs = (np.asfarray(all_values[1:]) / 255.0 * 0.99) + 0.01 \n",
        "      # query the network\n",
        "      outputs = nn_model.predict(inputs)\n",
        "      # the index of the highest value corresponds to the label \n",
        "      label = np.argmax(outputs)\n",
        "      # append correct or incorrect to list \n",
        "      if (label == correct_label):\n",
        "          # network's answer matches correct answer, add 1 to scorecard\n",
        "          scorecard.append(1) \n",
        "      else:\n",
        "          # network's answer doesn't match correct answer, add 0 to scorecard\n",
        "          scorecard.append(0) \n",
        "          pass\n",
        "      pass\n",
        "\n",
        "  scorecard_array = np.asarray(scorecard)\n",
        "  accuracy = scorecard_array.sum() / scorecard_array.size\n",
        "  print(\"Accuracy:\", accuracy)\n",
        "  return accuracy"
      ],
      "execution_count": 0,
      "outputs": []
    },
    {
      "cell_type": "markdown",
      "metadata": {
        "id": "Y989pxxJ9pQW",
        "colab_type": "text"
      },
      "source": [
        "## Learning Rate vs. Accuracy\n",
        "\n",
        "Learning rate is a similar concept as the decrease factor we did in Simulated Annealing. It is basically how big of a step do we want to take. If we use very small steps, it can take very long to arrive at the optimal point and if we use very huge points, we can skip the optimal point and never arrive at it. So, let's see how accuracy changes with learning rate. \n",
        "\n",
        "Let's make a graph for it!"
      ]
    },
    {
      "cell_type": "code",
      "metadata": {
        "id": "0dNhokMHYqLv",
        "colab_type": "code",
        "outputId": "c4fe4bd3-c9d4-41cf-bebe-516170aaddfa",
        "colab": {
          "base_uri": "https://localhost:8080/",
          "height": 816
        }
      },
      "source": [
        "lr_accuracy = [getAccuracy(100, i) for i in np.arange(0.1, 1, 0.1)]"
      ],
      "execution_count": 15,
      "outputs": [
        {
          "output_type": "stream",
          "text": [
            "\r  0%|          | 0/10 [00:00<?, ?it/s]"
          ],
          "name": "stderr"
        },
        {
          "output_type": "stream",
          "text": [
            "Learning Rate: 0.1\n",
            "Hidden Nodes: 100\n",
            "Starting Training...\n"
          ],
          "name": "stdout"
        },
        {
          "output_type": "stream",
          "text": [
            "100%|██████████| 10/10 [07:37<00:00, 45.74s/it]\n",
            "  0%|          | 0/10 [00:00<?, ?it/s]"
          ],
          "name": "stderr"
        },
        {
          "output_type": "stream",
          "text": [
            "Accuracy: 0.9658\n",
            "Learning Rate: 0.2\n",
            "Hidden Nodes: 100\n",
            "Starting Training...\n"
          ],
          "name": "stdout"
        },
        {
          "output_type": "stream",
          "text": [
            "100%|██████████| 10/10 [07:39<00:00, 45.91s/it]\n",
            "  0%|          | 0/10 [00:00<?, ?it/s]"
          ],
          "name": "stderr"
        },
        {
          "output_type": "stream",
          "text": [
            "Accuracy: 0.9606\n",
            "Learning Rate: 0.30000000000000004\n",
            "Hidden Nodes: 100\n",
            "Starting Training...\n"
          ],
          "name": "stdout"
        },
        {
          "output_type": "stream",
          "text": [
            "100%|██████████| 10/10 [07:39<00:00, 45.90s/it]\n",
            "  0%|          | 0/10 [00:00<?, ?it/s]"
          ],
          "name": "stderr"
        },
        {
          "output_type": "stream",
          "text": [
            "Accuracy: 0.9392\n",
            "Learning Rate: 0.4\n",
            "Hidden Nodes: 100\n",
            "Starting Training...\n"
          ],
          "name": "stdout"
        },
        {
          "output_type": "stream",
          "text": [
            "100%|██████████| 10/10 [07:44<00:00, 46.41s/it]\n",
            "  0%|          | 0/10 [00:00<?, ?it/s]"
          ],
          "name": "stderr"
        },
        {
          "output_type": "stream",
          "text": [
            "Accuracy: 0.9312\n",
            "Learning Rate: 0.5\n",
            "Hidden Nodes: 100\n",
            "Starting Training...\n"
          ],
          "name": "stdout"
        },
        {
          "output_type": "stream",
          "text": [
            "100%|██████████| 10/10 [07:46<00:00, 46.62s/it]\n",
            "  0%|          | 0/10 [00:00<?, ?it/s]"
          ],
          "name": "stderr"
        },
        {
          "output_type": "stream",
          "text": [
            "Accuracy: 0.9294\n",
            "Learning Rate: 0.6\n",
            "Hidden Nodes: 100\n",
            "Starting Training...\n"
          ],
          "name": "stdout"
        },
        {
          "output_type": "stream",
          "text": [
            " 80%|████████  | 8/10 [06:06<01:31, 45.79s/it]/usr/local/lib/python3.6/dist-packages/ipykernel_launcher.py:2: RuntimeWarning: overflow encountered in exp\n",
            "  \n",
            "100%|██████████| 10/10 [07:45<00:00, 46.59s/it]\n",
            "  0%|          | 0/10 [00:00<?, ?it/s]"
          ],
          "name": "stderr"
        },
        {
          "output_type": "stream",
          "text": [
            "Accuracy: 0.9192\n",
            "Learning Rate: 0.7000000000000001\n",
            "Hidden Nodes: 100\n",
            "Starting Training...\n"
          ],
          "name": "stdout"
        },
        {
          "output_type": "stream",
          "text": [
            "100%|██████████| 10/10 [07:39<00:00, 45.96s/it]\n",
            "  0%|          | 0/10 [00:00<?, ?it/s]"
          ],
          "name": "stderr"
        },
        {
          "output_type": "stream",
          "text": [
            "Accuracy: 0.9136\n",
            "Learning Rate: 0.8\n",
            "Hidden Nodes: 100\n",
            "Starting Training...\n"
          ],
          "name": "stdout"
        },
        {
          "output_type": "stream",
          "text": [
            "100%|██████████| 10/10 [07:39<00:00, 45.90s/it]\n",
            "  0%|          | 0/10 [00:00<?, ?it/s]"
          ],
          "name": "stderr"
        },
        {
          "output_type": "stream",
          "text": [
            "Accuracy: 0.9087\n",
            "Learning Rate: 0.9\n",
            "Hidden Nodes: 100\n",
            "Starting Training...\n"
          ],
          "name": "stdout"
        },
        {
          "output_type": "stream",
          "text": [
            "100%|██████████| 10/10 [07:41<00:00, 46.17s/it]\n"
          ],
          "name": "stderr"
        },
        {
          "output_type": "stream",
          "text": [
            "Accuracy: 0.9072\n"
          ],
          "name": "stdout"
        }
      ]
    },
    {
      "cell_type": "code",
      "metadata": {
        "id": "n5QsjlQgd_hB",
        "colab_type": "code",
        "colab": {
          "base_uri": "https://localhost:8080/",
          "height": 296
        },
        "outputId": "1d720b2f-a092-4e45-ade8-ab26d50d28b1"
      },
      "source": [
        "plt.plot(np.arange(0.1, 1, 0.1), lr_accuracy)\n",
        "plt.xlabel(\"Learning Rate\")\n",
        "plt.ylabel(\"Accuracy\")"
      ],
      "execution_count": 16,
      "outputs": [
        {
          "output_type": "execute_result",
          "data": {
            "text/plain": [
              "Text(0, 0.5, 'Accuracy')"
            ]
          },
          "metadata": {
            "tags": []
          },
          "execution_count": 16
        },
        {
          "output_type": "display_data",
          "data": {
            "image/png": "[encoded data removed]",
            "text/plain": [
              "<Figure size 432x288 with 1 Axes>"
            ]
          },
          "metadata": {
            "tags": [],
            "needs_background": "light"
          }
        }
      ]
    },
    {
      "cell_type": "markdown",
      "metadata": {
        "id": "ZY30-w_qlh8Q",
        "colab_type": "text"
      },
      "source": [
        "We can see that the accuracy declines very fast as we increase the learning rate. This is because the loss function that we have defined is diverging from the optimal point. The graph supports the theory of decreasing accuracy as the learning rate increases. "
      ]
    },
    {
      "cell_type": "markdown",
      "metadata": {
        "id": "kCtmhe3l-QP6",
        "colab_type": "text"
      },
      "source": [
        "## Hidden Nodes vs. Accuracy\n",
        "\n",
        "Let's do a similar observation for hidden nodes. Hidden nodes are how the bridge between the input and output nodes of a neural network. Let's see how changing the number of hidden nodes affects the accuracy."
      ]
    },
    {
      "cell_type": "code",
      "metadata": {
        "id": "ieml8PEKeIj3",
        "colab_type": "code",
        "colab": {
          "base_uri": "https://localhost:8080/",
          "height": 782
        },
        "outputId": "634eeb28-4291-4959-cf4a-49a9e1c0a616"
      },
      "source": [
        "hn_accuracy = [getAccuracy(i, 0.1) for i in np.arange(100, 1000, 100)]"
      ],
      "execution_count": 17,
      "outputs": [
        {
          "output_type": "stream",
          "text": [
            "\r  0%|          | 0/10 [00:00<?, ?it/s]"
          ],
          "name": "stderr"
        },
        {
          "output_type": "stream",
          "text": [
            "Learning Rate: 0.1\n",
            "Hidden Nodes: 100\n",
            "Starting Training...\n"
          ],
          "name": "stdout"
        },
        {
          "output_type": "stream",
          "text": [
            "100%|██████████| 10/10 [07:32<00:00, 45.20s/it]\n",
            "  0%|          | 0/10 [00:00<?, ?it/s]"
          ],
          "name": "stderr"
        },
        {
          "output_type": "stream",
          "text": [
            "Accuracy: 0.9654\n",
            "Learning Rate: 0.1\n",
            "Hidden Nodes: 200\n",
            "Starting Training...\n"
          ],
          "name": "stdout"
        },
        {
          "output_type": "stream",
          "text": [
            "100%|██████████| 10/10 [11:28<00:00, 68.89s/it]\n",
            "  0%|          | 0/10 [00:00<?, ?it/s]"
          ],
          "name": "stderr"
        },
        {
          "output_type": "stream",
          "text": [
            "Accuracy: 0.9726\n",
            "Learning Rate: 0.1\n",
            "Hidden Nodes: 300\n",
            "Starting Training...\n"
          ],
          "name": "stdout"
        },
        {
          "output_type": "stream",
          "text": [
            "100%|██████████| 10/10 [15:19<00:00, 91.94s/it]\n",
            "  0%|          | 0/10 [00:00<?, ?it/s]"
          ],
          "name": "stderr"
        },
        {
          "output_type": "stream",
          "text": [
            "Accuracy: 0.9765\n",
            "Learning Rate: 0.1\n",
            "Hidden Nodes: 400\n",
            "Starting Training...\n"
          ],
          "name": "stdout"
        },
        {
          "output_type": "stream",
          "text": [
            "100%|██████████| 10/10 [17:00<00:00, 102.03s/it]\n",
            "  0%|          | 0/10 [00:00<?, ?it/s]"
          ],
          "name": "stderr"
        },
        {
          "output_type": "stream",
          "text": [
            "Accuracy: 0.977\n",
            "Learning Rate: 0.1\n",
            "Hidden Nodes: 500\n",
            "Starting Training...\n"
          ],
          "name": "stdout"
        },
        {
          "output_type": "stream",
          "text": [
            "100%|██████████| 10/10 [20:12<00:00, 121.23s/it]\n",
            "  0%|          | 0/10 [00:00<?, ?it/s]"
          ],
          "name": "stderr"
        },
        {
          "output_type": "stream",
          "text": [
            "Accuracy: 0.9764\n",
            "Learning Rate: 0.1\n",
            "Hidden Nodes: 600\n",
            "Starting Training...\n"
          ],
          "name": "stdout"
        },
        {
          "output_type": "stream",
          "text": [
            "100%|██████████| 10/10 [23:26<00:00, 140.63s/it]\n",
            "  0%|          | 0/10 [00:00<?, ?it/s]"
          ],
          "name": "stderr"
        },
        {
          "output_type": "stream",
          "text": [
            "Accuracy: 0.9769\n",
            "Learning Rate: 0.1\n",
            "Hidden Nodes: 700\n",
            "Starting Training...\n"
          ],
          "name": "stdout"
        },
        {
          "output_type": "stream",
          "text": [
            "100%|██████████| 10/10 [24:27<00:00, 146.76s/it]\n",
            "  0%|          | 0/10 [00:00<?, ?it/s]"
          ],
          "name": "stderr"
        },
        {
          "output_type": "stream",
          "text": [
            "Accuracy: 0.9762\n",
            "Learning Rate: 0.1\n",
            "Hidden Nodes: 800\n",
            "Starting Training...\n"
          ],
          "name": "stdout"
        },
        {
          "output_type": "stream",
          "text": [
            "100%|██████████| 10/10 [25:38<00:00, 153.86s/it]\n",
            "  0%|          | 0/10 [00:00<?, ?it/s]"
          ],
          "name": "stderr"
        },
        {
          "output_type": "stream",
          "text": [
            "Accuracy: 0.978\n",
            "Learning Rate: 0.1\n",
            "Hidden Nodes: 900\n",
            "Starting Training...\n"
          ],
          "name": "stdout"
        },
        {
          "output_type": "stream",
          "text": [
            "100%|██████████| 10/10 [28:36<00:00, 171.61s/it]\n"
          ],
          "name": "stderr"
        },
        {
          "output_type": "stream",
          "text": [
            "Accuracy: 0.9774\n"
          ],
          "name": "stdout"
        }
      ]
    },
    {
      "cell_type": "code",
      "metadata": {
        "id": "rJDiXXzGvCcG",
        "colab_type": "code",
        "colab": {
          "base_uri": "https://localhost:8080/",
          "height": 296
        },
        "outputId": "55fa4aa8-9f8f-4ecd-fea5-b65f80f11863"
      },
      "source": [
        "plt.plot(np.arange(100, 1000, 100), hn_accuracy)\n",
        "plt.xlabel(\"Hidden Nodes\")\n",
        "plt.ylabel(\"Accuracy\")"
      ],
      "execution_count": 21,
      "outputs": [
        {
          "output_type": "execute_result",
          "data": {
            "text/plain": [
              "Text(0, 0.5, 'Accuracy')"
            ]
          },
          "metadata": {
            "tags": []
          },
          "execution_count": 21
        },
        {
          "output_type": "display_data",
          "data": {
            "image/png": "[encoded data removed]",
            "text/plain": [
              "<Figure size 432x288 with 1 Axes>"
            ]
          },
          "metadata": {
            "tags": [],
            "needs_background": "light"
          }
        }
      ]
    },
    {
      "cell_type": "markdown",
      "metadata": {
        "id": "GazyaloPmT_O",
        "colab_type": "text"
      },
      "source": [
        "We can see that the accuracy increases as we increase the number of hidden nodes but at one point it begins to plateau. One question arises, why don't we use high number of hidden nodes in exchange with better accuracy? Well because the time taken to train a model increases linearly with the number of hidden nodes (this is the next question we will examine). So, it is a tradeoff between accuracy and time. At one point increasing the number of hidden nodes starts to give diminishing returns, so we have to choose an optimal number of hidden nodes. In this computation our accuracy increased with hidden nodes but that is not always the case. We don't really know how to choose hidden nodes besides just trying a bunch of different values and choosing the best one. "
      ]
    },
    {
      "cell_type": "markdown",
      "metadata": {
        "id": "FAkVRn2j-iEY",
        "colab_type": "text"
      },
      "source": [
        "## Hidden Nodes vs. Time\n",
        "Time is one of the most important factors when it comes to training a neural network. Let's see how the time taken is going to increase as the number of hidden nodes increase. "
      ]
    },
    {
      "cell_type": "code",
      "metadata": {
        "id": "jBy91i21Fxs_",
        "colab_type": "code",
        "colab": {}
      },
      "source": [
        "import timeit\n",
        "def getTime(hn, lr):\n",
        "  start = timeit.default_timer()\n",
        "  print(\"Learning Rate:\" , lr)\n",
        "  print(\"Hidden Nodes:\", hn)\n",
        "  input_nodes = 784\n",
        "  output_nodes = 10\n",
        "  nn_model = neuralNetwork(input_nodes, hn, output_nodes, lr)\n",
        "  epochs = 10\n",
        "  print(\"Starting Training...\")\n",
        "  for e in tqdm(range(epochs)):\n",
        "    #print(\"Epoch: \" + str(e+1) + \"/\" + str(epochs))\n",
        "    # go through all records in the training data set \n",
        "    for record in training_data_list:\n",
        "      # split the record by the ',' commas\n",
        "      all_values = record.split(',')\n",
        "      # scale and shift the inputs\n",
        "      inputs = (np.asfarray(all_values[1:]) / 255.0 * 0.99) + 0.01\n",
        "      # create the target output values (all 0.01, except the desired label which is 0.99)\n",
        "      targets = np.zeros(output_nodes) + 0.01\n",
        "      # all_values[0] is the target label for this record \n",
        "      targets[int(all_values[0])] = 0.99\n",
        "      nn_model.train(inputs, targets)\n",
        "      pass\n",
        "    pass\n",
        "  \n",
        "  # test the neural network\n",
        "  # scorecard for how well the network performs, initially empty \n",
        "  scorecard = []\n",
        "  # go through all the records in the test data set \n",
        "  for record in test_data_list:\n",
        "      # split the record by the ',' commas \n",
        "      all_values = record.split(',')\n",
        "      # correct answer is first value \n",
        "      correct_label = int(all_values[0]) \n",
        "      inputs = (np.asfarray(all_values[1:]) / 255.0 * 0.99) + 0.01 \n",
        "      # query the network\n",
        "      outputs = nn_model.predict(inputs)\n",
        "      # the index of the highest value corresponds to the label \n",
        "      label = np.argmax(outputs)\n",
        "      # append correct or incorrect to list \n",
        "      if (label == correct_label):\n",
        "          # network's answer matches correct answer, add 1 to scorecard\n",
        "          scorecard.append(1) \n",
        "      else:\n",
        "          # network's answer doesn't match correct answer, add 0 to scorecard\n",
        "          scorecard.append(0) \n",
        "          pass\n",
        "      pass\n",
        "\n",
        "  scorecard_array = np.asarray(scorecard)\n",
        "  accuracy = scorecard_array.sum() / scorecard_array.size\n",
        "  #print(\"Accuracy:\", accuracy)\n",
        "  stop = timeit.default_timer()\n",
        "  print(\"Time Taken:\", stop - start)\n",
        "  return stop - start"
      ],
      "execution_count": 0,
      "outputs": []
    },
    {
      "cell_type": "code",
      "metadata": {
        "id": "Y0h2Vw_wayyv",
        "colab_type": "code",
        "colab": {
          "base_uri": "https://localhost:8080/",
          "height": 1000
        },
        "outputId": "528ca9e5-f010-4129-e83c-01ad0a286b4d"
      },
      "source": [
        "hn_time = [getTime(i, 0.1) for i in np.arange(100, 1000, 50)]"
      ],
      "execution_count": 20,
      "outputs": [
        {
          "output_type": "stream",
          "text": [
            "\r  0%|          | 0/10 [00:00<?, ?it/s]"
          ],
          "name": "stderr"
        },
        {
          "output_type": "stream",
          "text": [
            "Learning Rate: 0.1\n",
            "Hidden Nodes: 100\n",
            "Starting Training...\n"
          ],
          "name": "stdout"
        },
        {
          "output_type": "stream",
          "text": [
            "100%|██████████| 10/10 [07:44<00:00, 46.47s/it]\n",
            "  0%|          | 0/10 [00:00<?, ?it/s]"
          ],
          "name": "stderr"
        },
        {
          "output_type": "stream",
          "text": [
            "Time Taken: 468.3097100370014\n",
            "Learning Rate: 0.1\n",
            "Hidden Nodes: 150\n",
            "Starting Training...\n"
          ],
          "name": "stdout"
        },
        {
          "output_type": "stream",
          "text": [
            "100%|██████████| 10/10 [09:41<00:00, 58.11s/it]\n",
            "  0%|          | 0/10 [00:00<?, ?it/s]"
          ],
          "name": "stderr"
        },
        {
          "output_type": "stream",
          "text": [
            "Time Taken: 584.6731953320013\n",
            "Learning Rate: 0.1\n",
            "Hidden Nodes: 200\n",
            "Starting Training...\n"
          ],
          "name": "stdout"
        },
        {
          "output_type": "stream",
          "text": [
            "100%|██████████| 10/10 [11:26<00:00, 68.69s/it]\n",
            "  0%|          | 0/10 [00:00<?, ?it/s]"
          ],
          "name": "stderr"
        },
        {
          "output_type": "stream",
          "text": [
            "Time Taken: 690.7016237690004\n",
            "Learning Rate: 0.1\n",
            "Hidden Nodes: 250\n",
            "Starting Training...\n"
          ],
          "name": "stdout"
        },
        {
          "output_type": "stream",
          "text": [
            "100%|██████████| 10/10 [13:27<00:00, 80.80s/it]\n",
            "  0%|          | 0/10 [00:00<?, ?it/s]"
          ],
          "name": "stderr"
        },
        {
          "output_type": "stream",
          "text": [
            "Time Taken: 811.9856062700019\n",
            "Learning Rate: 0.1\n",
            "Hidden Nodes: 300\n",
            "Starting Training...\n"
          ],
          "name": "stdout"
        },
        {
          "output_type": "stream",
          "text": [
            "100%|██████████| 10/10 [15:24<00:00, 92.41s/it]\n",
            "  0%|          | 0/10 [00:00<?, ?it/s]"
          ],
          "name": "stderr"
        },
        {
          "output_type": "stream",
          "text": [
            "Time Taken: 928.1815704149994\n",
            "Learning Rate: 0.1\n",
            "Hidden Nodes: 350\n",
            "Starting Training...\n"
          ],
          "name": "stdout"
        },
        {
          "output_type": "stream",
          "text": [
            "100%|██████████| 10/10 [15:34<00:00, 93.42s/it]\n",
            "  0%|          | 0/10 [00:00<?, ?it/s]"
          ],
          "name": "stderr"
        },
        {
          "output_type": "stream",
          "text": [
            "Time Taken: 938.4863381409996\n",
            "Learning Rate: 0.1\n",
            "Hidden Nodes: 400\n",
            "Starting Training...\n"
          ],
          "name": "stdout"
        },
        {
          "output_type": "stream",
          "text": [
            "100%|██████████| 10/10 [16:55<00:00, 101.60s/it]\n",
            "  0%|          | 0/10 [00:00<?, ?it/s]"
          ],
          "name": "stderr"
        },
        {
          "output_type": "stream",
          "text": [
            "Time Taken: 1020.4592274739989\n",
            "Learning Rate: 0.1\n",
            "Hidden Nodes: 450\n",
            "Starting Training...\n"
          ],
          "name": "stdout"
        },
        {
          "output_type": "stream",
          "text": [
            "100%|██████████| 10/10 [18:25<00:00, 110.56s/it]\n",
            "  0%|          | 0/10 [00:00<?, ?it/s]"
          ],
          "name": "stderr"
        },
        {
          "output_type": "stream",
          "text": [
            "Time Taken: 1110.147637285001\n",
            "Learning Rate: 0.1\n",
            "Hidden Nodes: 500\n",
            "Starting Training...\n"
          ],
          "name": "stdout"
        },
        {
          "output_type": "stream",
          "text": [
            "100%|██████████| 10/10 [20:11<00:00, 121.16s/it]\n",
            "  0%|          | 0/10 [00:00<?, ?it/s]"
          ],
          "name": "stderr"
        },
        {
          "output_type": "stream",
          "text": [
            "Time Taken: 1216.4488649470004\n",
            "Learning Rate: 0.1\n",
            "Hidden Nodes: 550\n",
            "Starting Training...\n"
          ],
          "name": "stdout"
        },
        {
          "output_type": "stream",
          "text": [
            "100%|██████████| 10/10 [18:32<00:00, 111.26s/it]\n",
            "  0%|          | 0/10 [00:00<?, ?it/s]"
          ],
          "name": "stderr"
        },
        {
          "output_type": "stream",
          "text": [
            "Time Taken: 1117.6824099769983\n",
            "Learning Rate: 0.1\n",
            "Hidden Nodes: 600\n",
            "Starting Training...\n"
          ],
          "name": "stdout"
        },
        {
          "output_type": "stream",
          "text": [
            "100%|██████████| 10/10 [19:29<00:00, 116.94s/it]\n",
            "  0%|          | 0/10 [00:00<?, ?it/s]"
          ],
          "name": "stderr"
        },
        {
          "output_type": "stream",
          "text": [
            "Time Taken: 1174.4258069470015\n",
            "Learning Rate: 0.1\n",
            "Hidden Nodes: 650\n",
            "Starting Training...\n"
          ],
          "name": "stdout"
        },
        {
          "output_type": "stream",
          "text": [
            " 80%|████████  | 8/10 [16:46<04:15, 127.66s/it]"
          ],
          "name": "stderr"
        },
        {
          "output_type": "error",
          "ename": "KeyboardInterrupt",
          "evalue": "ignored",
          "traceback": [
            "\u001b[0;31m---------------------------------------------------------------------------\u001b[0m",
            "\u001b[0;31mKeyboardInterrupt\u001b[0m                         Traceback (most recent call last)",
            "\u001b[0;32m<ipython-input-20-a084a9b5458d>\u001b[0m in \u001b[0;36m<module>\u001b[0;34m()\u001b[0m\n\u001b[0;32m----> 1\u001b[0;31m \u001b[0mhn_time\u001b[0m \u001b[0;34m=\u001b[0m \u001b[0;34m[\u001b[0m\u001b[0mgetTime\u001b[0m\u001b[0;34m(\u001b[0m\u001b[0mi\u001b[0m\u001b[0;34m,\u001b[0m \u001b[0;36m0.1\u001b[0m\u001b[0;34m)\u001b[0m \u001b[0;32mfor\u001b[0m \u001b[0mi\u001b[0m \u001b[0;32min\u001b[0m \u001b[0mnp\u001b[0m\u001b[0;34m.\u001b[0m\u001b[0marange\u001b[0m\u001b[0;34m(\u001b[0m\u001b[0;36m100\u001b[0m\u001b[0;34m,\u001b[0m \u001b[0;36m1000\u001b[0m\u001b[0;34m,\u001b[0m \u001b[0;36m50\u001b[0m\u001b[0;34m)\u001b[0m\u001b[0;34m]\u001b[0m\u001b[0;34m\u001b[0m\u001b[0;34m\u001b[0m\u001b[0m\n\u001b[0m",
            "\u001b[0;32m<ipython-input-20-a084a9b5458d>\u001b[0m in \u001b[0;36m<listcomp>\u001b[0;34m(.0)\u001b[0m\n\u001b[0;32m----> 1\u001b[0;31m \u001b[0mhn_time\u001b[0m \u001b[0;34m=\u001b[0m \u001b[0;34m[\u001b[0m\u001b[0mgetTime\u001b[0m\u001b[0;34m(\u001b[0m\u001b[0mi\u001b[0m\u001b[0;34m,\u001b[0m \u001b[0;36m0.1\u001b[0m\u001b[0;34m)\u001b[0m \u001b[0;32mfor\u001b[0m \u001b[0mi\u001b[0m \u001b[0;32min\u001b[0m \u001b[0mnp\u001b[0m\u001b[0;34m.\u001b[0m\u001b[0marange\u001b[0m\u001b[0;34m(\u001b[0m\u001b[0;36m100\u001b[0m\u001b[0;34m,\u001b[0m \u001b[0;36m1000\u001b[0m\u001b[0;34m,\u001b[0m \u001b[0;36m50\u001b[0m\u001b[0;34m)\u001b[0m\u001b[0;34m]\u001b[0m\u001b[0;34m\u001b[0m\u001b[0;34m\u001b[0m\u001b[0m\n\u001b[0m",
            "\u001b[0;32m<ipython-input-19-ee7a3d389579>\u001b[0m in \u001b[0;36mgetTime\u001b[0;34m(hn, lr)\u001b[0m\n\u001b[1;32m     21\u001b[0m       \u001b[0;31m# all_values[0] is the target label for this record\u001b[0m\u001b[0;34m\u001b[0m\u001b[0;34m\u001b[0m\u001b[0;34m\u001b[0m\u001b[0m\n\u001b[1;32m     22\u001b[0m       \u001b[0mtargets\u001b[0m\u001b[0;34m[\u001b[0m\u001b[0mint\u001b[0m\u001b[0;34m(\u001b[0m\u001b[0mall_values\u001b[0m\u001b[0;34m[\u001b[0m\u001b[0;36m0\u001b[0m\u001b[0;34m]\u001b[0m\u001b[0;34m)\u001b[0m\u001b[0;34m]\u001b[0m \u001b[0;34m=\u001b[0m \u001b[0;36m0.99\u001b[0m\u001b[0;34m\u001b[0m\u001b[0;34m\u001b[0m\u001b[0m\n\u001b[0;32m---> 23\u001b[0;31m       \u001b[0mnn_model\u001b[0m\u001b[0;34m.\u001b[0m\u001b[0mtrain\u001b[0m\u001b[0;34m(\u001b[0m\u001b[0minputs\u001b[0m\u001b[0;34m,\u001b[0m \u001b[0mtargets\u001b[0m\u001b[0;34m)\u001b[0m\u001b[0;34m\u001b[0m\u001b[0;34m\u001b[0m\u001b[0m\n\u001b[0m\u001b[1;32m     24\u001b[0m       \u001b[0;32mpass\u001b[0m\u001b[0;34m\u001b[0m\u001b[0;34m\u001b[0m\u001b[0m\n\u001b[1;32m     25\u001b[0m     \u001b[0;32mpass\u001b[0m\u001b[0;34m\u001b[0m\u001b[0;34m\u001b[0m\u001b[0m\n",
            "\u001b[0;32m<ipython-input-3-30bacbd77fa1>\u001b[0m in \u001b[0;36mtrain\u001b[0;34m(self, inputs_list, target_list)\u001b[0m\n\u001b[1;32m     46\u001b[0m         self.weight_input_hidden += self.learning_rate * np.dot((hidden_errors * hidden_outputs\n\u001b[1;32m     47\u001b[0m                                                                  * (1.0 - hidden_outputs)),\n\u001b[0;32m---> 48\u001b[0;31m                                                                 np.transpose(inputs))\n\u001b[0m\u001b[1;32m     49\u001b[0m \u001b[0;34m\u001b[0m\u001b[0m\n\u001b[1;32m     50\u001b[0m         \u001b[0;32mpass\u001b[0m\u001b[0;34m\u001b[0m\u001b[0;34m\u001b[0m\u001b[0m\n",
            "\u001b[0;32m<__array_function__ internals>\u001b[0m in \u001b[0;36mdot\u001b[0;34m(*args, **kwargs)\u001b[0m\n",
            "\u001b[0;31mKeyboardInterrupt\u001b[0m: "
          ]
        }
      ]
    },
    {
      "cell_type": "code",
      "metadata": {
        "id": "LBYSVuY6a7AE",
        "colab_type": "code",
        "colab": {
          "base_uri": "https://localhost:8080/",
          "height": 296
        },
        "outputId": "ae9e886a-ca7b-4bfe-b8c4-5348cc24b851"
      },
      "source": [
        "hn_time = [7.73, 9.68, 11.43, 13.45, 15.4, 15.56, 16.92, 18.41, 20.18, 18.55, 19.48]\n",
        "plt.plot(np.arange(100, 650, 50), hn_time)\n",
        "plt.xlabel(\"Hidden Nodes\")\n",
        "plt.ylabel(\"Time Taken\")"
      ],
      "execution_count": 23,
      "outputs": [
        {
          "output_type": "execute_result",
          "data": {
            "text/plain": [
              "Text(0, 0.5, 'Time Taken')"
            ]
          },
          "metadata": {
            "tags": []
          },
          "execution_count": 23
        },
        {
          "output_type": "display_data",
          "data": {
            "image/png": "[encoded data removed]",
            "text/plain": [
              "<Figure size 432x288 with 1 Axes>"
            ]
          },
          "metadata": {
            "tags": [],
            "needs_background": "light"
          }
        }
      ]
    },
    {
      "cell_type": "markdown",
      "metadata": {
        "id": "nNfXcy99nnPb",
        "colab_type": "text"
      },
      "source": [
        "*Note: Since this took a lot of time, I interrupted the computation and manually plotted the graph.* \n",
        "\n",
        "As I mentioned before, the time taken increases as the number of hidden nodes increase because as hidden nodes incerase, the number of individual arithmetic we have to increases (the computational complexity is O(n) in this case) linearly. So, this increases the time linearly too."
      ]
    },
    {
      "cell_type": "markdown",
      "metadata": {
        "id": "1wVBrUHAoqY0",
        "colab_type": "text"
      },
      "source": [
        "## Limitation\n",
        "\n",
        "The major limitation in training neural networks is the computational power and efficiency. Since we only have limited computational power and only so many computations per seconds in our processors, our training is severely affected.\n",
        "\n",
        "Another limitation is the implementation. This is a very basic implementation in Python and python is not the most efficient language out there. If we were to implement a similar neural network in a lower level language like C, C++ or even Java, we might see better times. \n",
        "\n",
        "Another limitation is the architechure we are using. This is a very basic architecure of a neural network. Since we are dealing with image data, a better architechture of neural network would be a **Convolutional Neural Network**. "
      ]
    },
    {
      "cell_type": "markdown",
      "metadata": {
        "id": "1BuqYyY7piXs",
        "colab_type": "text"
      },
      "source": [
        "# Future Work\n",
        "\n",
        "A lot of work is being done in the field of Artificial Neural Networks. This projects can see a bunch of improvements in the future. One of the most important one that I see is parallelization of computation. You see, all the processes we have done is only running on one thread of a processor. Modern computers generally have 8 to 16 threads. So, if we can make use of all 16 cores, we can see a significantly better training times. Even further, modern GPUs have core counts in thousands. Since all we are dealing with is basic arithmetic calculations, those small cores in GPUs are enough for us, so if we can make use of those cores, we can see exponential decrease in compute times. \n",
        "\n",
        "Also, as mentioned above, if we use **Convolutional Neural Network** by tuning the parameters for this problem we can get well above 99% accuracy."
      ]
    }
  ]
}